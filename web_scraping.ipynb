{
 "cells": [
  {
   "cell_type": "markdown",
   "metadata": {},
   "source": [
    "Bibliotecas:"
   ]
  },
  {
   "cell_type": "code",
   "execution_count": 107,
   "metadata": {},
   "outputs": [],
   "source": [
    "import pandas as pd"
   ]
  },
  {
   "cell_type": "code",
   "execution_count": 108,
   "metadata": {},
   "outputs": [],
   "source": [
    "from selenium import webdriver\n",
    "from selenium.webdriver.chrome.service import Service\n",
    "from selenium.webdriver.common.by import By"
   ]
  },
  {
   "cell_type": "markdown",
   "metadata": {},
   "source": [
    "Inicializando Instância do Google Chrome"
   ]
  },
  {
   "cell_type": "code",
   "execution_count": 109,
   "metadata": {},
   "outputs": [],
   "source": [
    "service = Service()\n",
    "\n",
    "options = webdriver.ChromeOptions()\n",
    "\n",
    "driver = webdriver.Chrome(service=service, options=options)"
   ]
  },
  {
   "cell_type": "code",
   "execution_count": 110,
   "metadata": {},
   "outputs": [],
   "source": [
    "url = 'http://bianca.com/'\n",
    "\n",
    "driver.get(url)"
   ]
  },
  {
   "cell_type": "markdown",
   "metadata": {},
   "source": [
    "Elementos da página:"
   ]
  },
  {
   "cell_type": "code",
   "execution_count": 111,
   "metadata": {},
   "outputs": [
    {
     "name": "stdout",
     "output_type": "stream",
     "text": [
      "\n",
      "Conteúdo do elemento h1 encontrado:  bianca loves you!\n",
      "\n",
      "Nenhum texto encontrado no title do cabeçalho\n"
     ]
    }
   ],
   "source": [
    "#Localiza o elemento h1 (título) utilizando By.TAG_NAME e extrai seu texto\n",
    "h1_element = driver.find_element(By.TAG_NAME, 'h1').text\n",
    "\n",
    "#Localiza o elemento title\n",
    "head_title = driver.find_element(By.TAG_NAME, 'title')\n",
    "\n",
    "#Extrai o texto/conteúdo de title\n",
    "head_title_text = head_title.text\n",
    "\n",
    "print(\"\\nConteúdo do elemento h1 encontrado: \", h1_element)\n",
    "if head_title_text:\n",
    "    print(\"\\nContéudo do elemento title encontrado no cabeçalho: \", head_title_text)\n",
    "else:\n",
    "    print(\"\\nNenhum texto encontrado no title do cabeçalho\")"
   ]
  }
 ],
 "metadata": {
  "kernelspec": {
   "display_name": "Python 3",
   "language": "python",
   "name": "python3"
  },
  "language_info": {
   "codemirror_mode": {
    "name": "ipython",
    "version": 3
   },
   "file_extension": ".py",
   "mimetype": "text/x-python",
   "name": "python",
   "nbconvert_exporter": "python",
   "pygments_lexer": "ipython3",
   "version": "3.11.1"
  }
 },
 "nbformat": 4,
 "nbformat_minor": 2
}
